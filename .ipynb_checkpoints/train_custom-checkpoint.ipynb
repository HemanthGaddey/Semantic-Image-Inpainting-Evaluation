{
 "cells": [
  {
   "cell_type": "code",
   "execution_count": null,
   "metadata": {},
   "outputs": [],
   "source": [
    "from dataloader.data_loader import dataloader"
   ]
  },
  {
   "cell_type": "code",
   "execution_count": null,
   "metadata": {},
   "outputs": [],
   "source": [
    "class Options:\n",
    "    def __init__(self, name, model, mask_type, img_file, mask_file, text_config, batchSize, prior_alpha, prior_beta):\n",
    "        self.name=name\n",
    "        self.model=model\n",
    "        self.mask_type=mask_type\n",
    "        self.img_file=img_file # has paths of all the images\n",
    "        self.mask_file=mask_file\n",
    "        self.text_config=text_config\n",
    "        self.batchSize=batchSize\n",
    "        self.prior_alpha=prior_alpha\n",
    "        self.prior_bets=prior_beta\n",
    "\n",
    "opt=Options(\"tdanet\", 0, './datasets/CUB_200_2011/train.flist', './datasets/CUB_200_2011/train_mask.flist', 'config.bird.yml', 10, 0.8, 8)\n"
   ]
  },
  {
   "cell_type": "code",
   "execution_count": null,
   "metadata": {},
   "outputs": [],
   "source": [
    "dataset= dataloader(opt)\n",
    "dataset_size = len(dataset) * opt.batchSize\n",
    "\n",
    "\n",
    "class TDAnet:\n",
    "    def __init__(self, opt):\n",
    "        \n",
    "        self.loss_names = ['kl_rec', 'kl_g', 'l1_rec', 'l1_g', 'gan_g', 'word_g', 'sentence_g', 'ad_l2_g',\n",
    "                           'gan_rec', 'ad_l2_rec', 'word_rec', 'sentence_rec',  'dis_img', 'dis_img_rec']\n",
    "        self.log_names = []\n",
    "        self.visual_names = ['img_m', 'img_truth', 'img_c', 'img_out', 'img_g', 'img_rec']\n",
    "        self.text_names = ['text_positive']\n",
    "        self.value_names = ['u_m', 'sigma_m', 'u_post', 'sigma_post', 'u_prior', 'sigma_prior']\n",
    "        self.model_names = ['E', 'G', 'D', 'D_rec']\n",
    "        self.distribution = []\n",
    "        self.prior_alpha = opt.prior_alpha\n",
    "        self.prior_beta = opt.prior_beta\n",
    "        self.max_pool = None if opt.no_maxpooling else 'max'"
   ]
  },
  {
   "cell_type": "code",
   "execution_count": null,
   "metadata": {},
   "outputs": [],
   "source": [
    "model=TDAnet(opt)"
   ]
  }
 ],
 "metadata": {
  "kernelspec": {
   "display_name": "Python 3",
   "language": "python",
   "name": "python3"
  },
  "language_info": {
   "codemirror_mode": {
    "name": "ipython",
    "version": 3
   },
   "file_extension": ".py",
   "mimetype": "text/x-python",
   "name": "python",
   "nbconvert_exporter": "python",
   "pygments_lexer": "ipython3",
   "version": "3.6.15"
  }
 },
 "nbformat": 4,
 "nbformat_minor": 2
}
